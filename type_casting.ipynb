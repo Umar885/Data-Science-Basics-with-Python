{
 "cells": [
  {
   "cell_type": "markdown",
   "metadata": {},
   "source": [
    "# Type Casting "
   ]
  },
  {
   "cell_type": "markdown",
   "metadata": {},
   "source": [
    "Type casting is the process of converting one data type into another. It's a way to tell the computer to treat a piece of data as if it belongs to a different type. This is useful when you want to perform operations that require the data to be in a specific format."
   ]
  },
  {
   "cell_type": "markdown",
   "metadata": {},
   "source": [
    "# Types of Type Casting:"
   ]
  },
  {
   "cell_type": "markdown",
   "metadata": {},
   "source": [
    "1. Implicit Casting (Type Conversion)\n",
    "2. Explicit Casting (Type Coercion)"
   ]
  },
  {
   "cell_type": "markdown",
   "metadata": {},
   "source": [
    "# 1. Implicit Casting (Type Conversion)"
   ]
  },
  {
   "cell_type": "markdown",
   "metadata": {},
   "source": [
    "- Done automatically by the computer.\n",
    "- No manual action needed.\n",
    "- Example: Converting an integer to a float."
   ]
  },
  {
   "cell_type": "code",
   "execution_count": 1,
   "metadata": {},
   "outputs": [
    {
     "name": "stdout",
     "output_type": "stream",
     "text": [
      "7.5\n"
     ]
    }
   ],
   "source": [
    "x = 5   # integer\n",
    "y = x + 2.5  # x is automatically converted to a float (5.0)\n",
    "print(y)  # Output: 7.5\n"
   ]
  },
  {
   "cell_type": "markdown",
   "metadata": {},
   "source": [
    "# 2. Explicit Casting (Type Coercion)"
   ]
  },
  {
   "cell_type": "markdown",
   "metadata": {},
   "source": [
    "- Done manually by the programmer.\n",
    "- You use specific functions like int(), float(), str(), etc.\n",
    "- Example: Converting a string to an integer."
   ]
  },
  {
   "cell_type": "code",
   "execution_count": 2,
   "metadata": {},
   "outputs": [
    {
     "name": "stdout",
     "output_type": "stream",
     "text": [
      "30\n"
     ]
    }
   ],
   "source": [
    "age = \"25\"  # string\n",
    "age_in_years = int(age)  # explicitly converting string to integer\n",
    "print(age_in_years + 5)  # Output: 30\n"
   ]
  },
  {
   "cell_type": "markdown",
   "metadata": {},
   "source": [
    "# Why is Type Casting Needed?"
   ]
  },
  {
   "cell_type": "markdown",
   "metadata": {},
   "source": [
    "- To ensure data is in the correct format for operations.\n",
    "- To avoid errors like trying to add a string to a number.\n",
    "- To enable compatibility between different types of data."
   ]
  },
  {
   "cell_type": "markdown",
   "metadata": {},
   "source": [
    "# Real-Life Example"
   ]
  },
  {
   "cell_type": "markdown",
   "metadata": {},
   "source": [
    "Imagine you’re filling out a form online, and your age is stored as a string \"30\". If you need to calculate something with that age, like adding 5 to it, you must first cast it to an integer.\n"
   ]
  },
  {
   "cell_type": "code",
   "execution_count": 3,
   "metadata": {},
   "outputs": [
    {
     "name": "stdout",
     "output_type": "stream",
     "text": [
      "35\n"
     ]
    }
   ],
   "source": [
    "age = \"30\"  # string\n",
    "new_age = int(age) + 5  # convert to integer before adding\n",
    "print(new_age)  # Output: 35\n"
   ]
  },
  {
   "cell_type": "markdown",
   "metadata": {},
   "source": [
    "# 1. Changing Value Types"
   ]
  },
  {
   "cell_type": "markdown",
   "metadata": {},
   "source": [
    "During type casting, the value of a variable changes its type. For example:"
   ]
  },
  {
   "cell_type": "markdown",
   "metadata": {},
   "source": [
    "- Integer to Float or Float to Integer:"
   ]
  },
  {
   "cell_type": "code",
   "execution_count": 4,
   "metadata": {},
   "outputs": [
    {
     "name": "stdout",
     "output_type": "stream",
     "text": [
      "10.0\n"
     ]
    }
   ],
   "source": [
    "x = 10  # Integer\n",
    "y = float(x)  # Convert to Float\n",
    "print(y)  # Output: 10.0\n"
   ]
  },
  {
   "cell_type": "code",
   "execution_count": 5,
   "metadata": {},
   "outputs": [
    {
     "name": "stdout",
     "output_type": "stream",
     "text": [
      "10\n"
     ]
    }
   ],
   "source": [
    "x = 10.5  # Float\n",
    "y = int(x)  # Convert to Integer\n",
    "print(y)  # Output: 10"
   ]
  },
  {
   "cell_type": "markdown",
   "metadata": {},
   "source": [
    "- String to Float or Integer:"
   ]
  },
  {
   "cell_type": "code",
   "execution_count": 6,
   "metadata": {},
   "outputs": [
    {
     "name": "stdout",
     "output_type": "stream",
     "text": [
      "25\n",
      "25.0\n"
     ]
    }
   ],
   "source": [
    "num_str = \"25\"  # String\n",
    "num_int = int(num_str)  # Convert to Integer\n",
    "num_float = float(num_str)  # Convert to Float\n",
    "print(num_int)  # Output: 25\n",
    "print(num_float)  # Output: 25.0\n"
   ]
  },
  {
   "cell_type": "markdown",
   "metadata": {},
   "source": [
    "- List to Tuple or Tuple to List:"
   ]
  },
  {
   "cell_type": "code",
   "execution_count": 7,
   "metadata": {},
   "outputs": [
    {
     "name": "stdout",
     "output_type": "stream",
     "text": [
      "(1, 2, 3)\n",
      "[1, 2, 3]\n"
     ]
    }
   ],
   "source": [
    "my_list = [1, 2, 3]  # List\n",
    "my_tuple = tuple(my_list)  # Convert List to Tuple\n",
    "print(my_tuple)  # Output: (1, 2, 3)\n",
    "\n",
    "my_new_list = list(my_tuple)  # Convert Tuple back to List\n",
    "print(my_new_list)  # Output: [1, 2, 3]\n"
   ]
  },
  {
   "cell_type": "markdown",
   "metadata": {},
   "source": [
    "# 2. Dictionary Type Limitation"
   ]
  },
  {
   "cell_type": "markdown",
   "metadata": {},
   "source": [
    "A dictionary, which contains key-value pairs, cannot be converted into other types directly because its structure is unique. For example:"
   ]
  },
  {
   "cell_type": "markdown",
   "metadata": {},
   "source": [
    "- Dictionary Example:"
   ]
  },
  {
   "cell_type": "code",
   "execution_count": 8,
   "metadata": {},
   "outputs": [],
   "source": [
    "my_dict = {\"name\": \"Umar\", \"age\": 25}\n",
    "# You cannot convert this dictionary directly into a list or tuple.\n"
   ]
  },
  {
   "cell_type": "markdown",
   "metadata": {},
   "source": [
    "# Key Takeaways:"
   ]
  },
  {
   "cell_type": "markdown",
   "metadata": {},
   "source": [
    "- Type casting allows one value type to change into another (e.g., int to float, string).\n",
    "- Collections like list and tuple can convert into each other.\n",
    "- A dictionary cannot be directly converted to other types because it holds key-value pairs. However, its keys or values can be extracted and converted separately."
   ]
  }
 ],
 "metadata": {
  "kernelspec": {
   "display_name": "Python 3",
   "language": "python",
   "name": "python3"
  },
  "language_info": {
   "codemirror_mode": {
    "name": "ipython",
    "version": 3
   },
   "file_extension": ".py",
   "mimetype": "text/x-python",
   "name": "python",
   "nbconvert_exporter": "python",
   "pygments_lexer": "ipython3",
   "version": "3.10.9"
  }
 },
 "nbformat": 4,
 "nbformat_minor": 2
}
